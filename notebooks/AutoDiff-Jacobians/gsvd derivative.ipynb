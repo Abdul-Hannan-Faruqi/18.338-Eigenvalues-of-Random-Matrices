{
 "cells": [
  {
   "cell_type": "code",
   "execution_count": 2,
   "metadata": {},
   "outputs": [],
   "source": [
    "using ForwardDiff, GenericSVD, LinearAlgebra"
   ]
  },
  {
   "cell_type": "markdown",
   "metadata": {},
   "source": [
    "## Generalized SVD -- Jacobi Ensembles\n",
    "$$ d([A;B]) = \\prod_{i<j}|c_i^2 - c_j^2|\\prod_i c_i^{m_1 - n} s_i^{m_2 - n}|H|^{(m_1+m_2-n)}(U'dU)^\\wedge (V'd V)^\\wedge(d\\Theta)^\\wedge (dH)^\\wedge $$"
   ]
  },
  {
   "cell_type": "code",
   "execution_count": 4,
   "metadata": {},
   "outputs": [
    {
     "data": {
      "text/plain": [
       "gsvd (generic function with 1 method)"
      ]
     },
     "execution_count": 4,
     "metadata": {},
     "output_type": "execute_result"
    }
   ],
   "source": [
    "function gsvd(AB,m₁)  # gsvd computation\n",
    "    A = AB[1:m₁,:]\n",
    "    B = AB[(m₁+1):end,:]\n",
    "    n = size(A,2)\n",
    "    U,σ,V = svd(A*pinv(B))\n",
    "    U = U[:,1:n];  V = V[:,1:n]\n",
    "    θ = acot.(σ[1:n])\n",
    "    H = (cos.(θ)).\\(U'A)    \n",
    "    U,V,θ,H\n",
    "end"
   ]
  },
  {
   "cell_type": "code",
   "execution_count": 5,
   "metadata": {},
   "outputs": [
    {
     "data": {
      "text/plain": [
       "gsvd_auto (generic function with 1 method)"
      ]
     },
     "execution_count": 5,
     "metadata": {},
     "output_type": "execute_result"
    }
   ],
   "source": [
    "function gsvd_auto(A,B)\n",
    "    m₁,n = size(A)\n",
    "    AB=[A;B]\n",
    "    JU,JV,Jθ,JH = (ForwardDiff.jacobian(x -> gsvd(x,m₁)[i], AB) for i=1:4)    \n",
    "    U, σ, V = svd(A*pinv(B),thin=false)\n",
    "    θ = acot.(σ[1:n])  \n",
    "    Uk = kron(eye(n), U') * JU   \n",
    "    Vk = kron(eye(n), V') * JV    \n",
    "    rowsU = vec((tril(ones(m₁,n),-1))) .==1\n",
    "    rowsV = vec((tril(ones(m₂,n),-1))) .==1    \n",
    "    Uk = Uk[rowsU, :]; Vk = Vk[rowsV, :]   \n",
    "    1/abs(det( [Jθ;JH;Uk;Vk] )) \n",
    "end"
   ]
  },
  {
   "cell_type": "code",
   "execution_count": 11,
   "metadata": {},
   "outputs": [
    {
     "data": {
      "text/plain": [
       "(96730.56500019798, 96730.56500019884)"
      ]
     },
     "execution_count": 11,
     "metadata": {},
     "output_type": "execute_result"
    }
   ],
   "source": [
    "m₁,m₂,n = 5,4,4\n",
    "A = randn(m₁,n); B = randn(m₂,n)\n",
    "U,V,θ,H = gsvd([A;B],size(A,1))\n",
    "c = cos.(θ); s = sin.(θ)\n",
    "gsvd_auto(A,B),   #  Experiment (theory below)\n",
    "abs(det(H)^(m₁+m₂-n) * prod([c[i]^2-c[j]^2 for i=1:n, j=1:n if i<j])) *prod(c)^(m₁-n) * prod(s)^(m₂-n) "
   ]
  },
  {
   "cell_type": "code",
   "execution_count": null,
   "metadata": {
    "collapsed": true
   },
   "outputs": [],
   "source": []
  }
 ],
 "metadata": {
  "kernelspec": {
   "display_name": "Julia 0.6.0",
   "language": "julia",
   "name": "julia-0.6"
  },
  "language_info": {
   "file_extension": ".jl",
   "mimetype": "application/julia",
   "name": "julia",
   "version": "0.6.0"
  }
 },
 "nbformat": 4,
 "nbformat_minor": 2
}
