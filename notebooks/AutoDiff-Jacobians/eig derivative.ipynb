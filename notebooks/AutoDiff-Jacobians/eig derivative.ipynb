{
 "cells": [
  {
   "cell_type": "code",
   "execution_count": 5,
   "metadata": {},
   "outputs": [],
   "source": [
    "using LinearAlgebra, ForwardDiff"
   ]
  },
  {
   "cell_type": "markdown",
   "metadata": {},
   "source": [
    "## Symmetric Eigenvalue Problem -- Hermite Ensembles\n",
    "$$ dA = \\prod_{i <j} |\\lambda_i - \\lambda_j|(d\\Lambda)^\\wedge(Q'dQ)^\\wedge $$"
   ]
  },
  {
   "cell_type": "code",
   "execution_count": 15,
   "metadata": {},
   "outputs": [],
   "source": [
    "n = 3\n",
    "A = randn(n,n);\n",
    "#A += A'"
   ]
  },
  {
   "cell_type": "code",
   "execution_count": 16,
   "metadata": {},
   "outputs": [],
   "source": [
    "lower = vec((tril(ones(n,n)))) .==1\n",
    "Λ,Q =  LinearAlgebra.EigenSelfAdjoint.eig(Hermitian(A, :L))\n",
    "dΛ,dQ = (ForwardDiff.jacobian(t -> LinearAlgebra.EigenSelfAdjoint.eig(Hermitian(t, :L))[i], A) for i=1:2)\n",
    "dΛ,dQ = dΛ[:,lower],dQ[:,lower];"
   ]
  },
  {
   "cell_type": "code",
   "execution_count": 17,
   "metadata": {},
   "outputs": [],
   "source": [
    "sublower = vec((tril(ones(n,n),-1))) .==1\n",
    "QᵀdQ = (kron(eye(A),Q')*dQ)[sublower,:];"
   ]
  },
  {
   "cell_type": "code",
   "execution_count": 18,
   "metadata": {},
   "outputs": [
    {
     "data": {
      "text/plain": [
       "(34.181104996022825, 34.18110499602615)"
      ]
     },
     "execution_count": 18,
     "metadata": {},
     "output_type": "execute_result"
    }
   ],
   "source": [
    "# Experiment vs Theory\n",
    "1/abs(det([dΛ;QᵀdQ])),abs(prod([Λ[i]-Λ[j] for i=1:n, j=1:n if i<j]))"
   ]
  },
  {
   "cell_type": "code",
   "execution_count": null,
   "metadata": {},
   "outputs": [],
   "source": []
  }
 ],
 "metadata": {
  "kernelspec": {
   "display_name": "Julia 0.6.0",
   "language": "julia",
   "name": "julia-0.6"
  },
  "language_info": {
   "file_extension": ".jl",
   "mimetype": "application/julia",
   "name": "julia",
   "version": "0.6.0"
  }
 },
 "nbformat": 4,
 "nbformat_minor": 2
}
