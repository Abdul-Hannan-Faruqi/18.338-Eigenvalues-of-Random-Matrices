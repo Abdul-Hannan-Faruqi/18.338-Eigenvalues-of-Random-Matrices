{
 "cells": [
  {
   "cell_type": "code",
   "execution_count": 5,
   "metadata": {
    "collapsed": true
   },
   "outputs": [],
   "source": [
    "using ForwardDiff, GenericSVD, LinearAlgebra"
   ]
  },
  {
   "cell_type": "markdown",
   "metadata": {},
   "source": [
    "## Singular Value Decomposition -- Laguerre Ensembles\n",
    "$$ dA = \\prod_{i < j} |\\sigma_i^2 - \\sigma_j^2| \\prod_i\\sigma_i^{m-n}(H'dU)^\\wedge(d\\Sigma)^\\wedge (V'dV)^\\wedge $$"
   ]
  },
  {
   "cell_type": "code",
   "execution_count": 2,
   "metadata": {},
   "outputs": [
    {
     "data": {
      "text/plain": [
       "svd_theory (generic function with 1 method)"
      ]
     },
     "execution_count": 2,
     "metadata": {},
     "output_type": "execute_result"
    }
   ],
   "source": [
    "function svd_theory(A) #  |Π(σᵢ²-σⱼ²) Πσᵢ^(m-n)| \n",
    "    σ = svdvals(A)\n",
    "    m,n = size(A)\n",
    "    abs(prod([σ[i]^2-σ[j]^2 for i=1:n, j=1:n if i<j])*prod(σ)^(m-n))   \n",
    "end"
   ]
  },
  {
   "cell_type": "code",
   "execution_count": 3,
   "metadata": {},
   "outputs": [
    {
     "data": {
      "text/plain": [
       "svd_auto (generic function with 1 method)"
      ]
     },
     "execution_count": 3,
     "metadata": {},
     "output_type": "execute_result"
    }
   ],
   "source": [
    "function svd_auto(A)\n",
    "    H,  σ, V = svd(A,thin=false)\n",
    "    dU,dσ,dV = (ForwardDiff.jacobian(x -> svd(x)[i], A) for i=1:3)    \n",
    "    HᵀdU = kron(eye(V), H') * dU   \n",
    "    VᵀdV = kron(eye(V), V') * dV    \n",
    "    rowsU = vec((tril(ones(A),-1))) .==1\n",
    "    rowsV = vec((tril(ones(V),-1))) .==1   \n",
    "    HᵀdU = HᵀdU[rowsU, :]; VᵀdV = VᵀdV[rowsV, :]   \n",
    "    1/abs(det( [dσ; HᵀdU; VᵀdV] )) \n",
    "end"
   ]
  },
  {
   "cell_type": "code",
   "execution_count": 6,
   "metadata": {},
   "outputs": [
    {
     "data": {
      "text/plain": [
       "(149824.04262999113, 149824.04262999224)"
      ]
     },
     "execution_count": 6,
     "metadata": {},
     "output_type": "execute_result"
    }
   ],
   "source": [
    "# Experiment vs Theory (m≥n)\n",
    "A = randn(6,4)\n",
    "svd_auto(A), svd_theory(A)"
   ]
  }
 ],
 "metadata": {
  "kernelspec": {
   "display_name": "Julia 0.6.0",
   "language": "julia",
   "name": "julia-0.6"
  },
  "language_info": {
   "file_extension": ".jl",
   "mimetype": "application/julia",
   "name": "julia",
   "version": "0.6.0"
  }
 },
 "nbformat": 4,
 "nbformat_minor": 1
}
